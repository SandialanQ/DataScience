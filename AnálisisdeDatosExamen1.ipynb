{
  "cells": [
    {
      "cell_type": "markdown",
      "metadata": {
        "id": "BuWNnhGXkUW9"
      },
      "source": [
        "**Autor: Alan Ramos Pérez**\n",
        "\n",
        "**Matrícula: 202249434**"
      ]
    },
    {
      "cell_type": "markdown",
      "metadata": {
        "id": "B7ocUydZjEdR"
      },
      "source": [
        "\n",
        "Se realizó un análisis de datos sobre sismos en México con el objetivo de predecir el estado ('Estatus') de cada evento sísmico a partir de sus características numéricas. Utilizando técnicas de clasificación supervisada, se entrenó un modelo K-Nearest Neighbors (KNN) que logró una precisión del 71.44% en el conjunto de prueba. El modelo mostró un buen desempeño en la identificación de la clase positiva, con una sensibilidad del 87.81% y una puntuación F1 de 81.78%, lo que indica una veracidad aceptable en sus predicciones.\n",
        "\n",
        "\n"
      ]
    },
    {
      "cell_type": "code",
      "execution_count": 1,
      "metadata": {
        "id": "ff4m3Oj1kQcI"
      },
      "outputs": [],
      "source": [
        "%matplotlib inline"
      ]
    },
    {
      "cell_type": "code",
      "execution_count": 2,
      "metadata": {
        "colab": {
          "base_uri": "https://localhost:8080/",
          "height": 223
        },
        "id": "Ekq6SO61lrPc",
        "outputId": "d20ffc98-5298-4210-f6ec-5825cd711004"
      },
      "outputs": [
        {
          "data": {
            "text/html": [
              "<div>\n",
              "<style scoped>\n",
              "    .dataframe tbody tr th:only-of-type {\n",
              "        vertical-align: middle;\n",
              "    }\n",
              "\n",
              "    .dataframe tbody tr th {\n",
              "        vertical-align: top;\n",
              "    }\n",
              "\n",
              "    .dataframe thead th {\n",
              "        text-align: right;\n",
              "    }\n",
              "</style>\n",
              "<table border=\"1\" class=\"dataframe\">\n",
              "  <thead>\n",
              "    <tr style=\"text-align: right;\">\n",
              "      <th></th>\n",
              "      <th>Fecha</th>\n",
              "      <th>Hora</th>\n",
              "      <th>Magnitud</th>\n",
              "      <th>Latitud</th>\n",
              "      <th>Longitud</th>\n",
              "      <th>Profundidad</th>\n",
              "      <th>Referencia de localizacion</th>\n",
              "      <th>Fecha UTC</th>\n",
              "      <th>Hora UTC</th>\n",
              "      <th>Estatus</th>\n",
              "    </tr>\n",
              "  </thead>\n",
              "  <tbody>\n",
              "    <tr>\n",
              "      <th>0</th>\n",
              "      <td>2024-01-01</td>\n",
              "      <td>00:15:51</td>\n",
              "      <td>3.2</td>\n",
              "      <td>18.7483</td>\n",
              "      <td>-104.6020</td>\n",
              "      <td>16.5</td>\n",
              "      <td>45 km al SUROESTE de MANZANILLO, COL</td>\n",
              "      <td>2024-01-01</td>\n",
              "      <td>06:15:51</td>\n",
              "      <td>revisado</td>\n",
              "    </tr>\n",
              "    <tr>\n",
              "      <th>1</th>\n",
              "      <td>2024-01-01</td>\n",
              "      <td>00:30:39</td>\n",
              "      <td>4.3</td>\n",
              "      <td>15.5482</td>\n",
              "      <td>-95.8245</td>\n",
              "      <td>16.1</td>\n",
              "      <td>41 km al SURESTE de CRUCECITA, OAX</td>\n",
              "      <td>2024-01-01</td>\n",
              "      <td>06:30:39</td>\n",
              "      <td>revisado</td>\n",
              "    </tr>\n",
              "    <tr>\n",
              "      <th>2</th>\n",
              "      <td>2024-01-01</td>\n",
              "      <td>00:53:59</td>\n",
              "      <td>3.1</td>\n",
              "      <td>19.5943</td>\n",
              "      <td>-102.4950</td>\n",
              "      <td>5.3</td>\n",
              "      <td>2 km al OESTE de LOS REYES DE SALGADO, MICH</td>\n",
              "      <td>2024-01-01</td>\n",
              "      <td>06:53:59</td>\n",
              "      <td>revisado</td>\n",
              "    </tr>\n",
              "    <tr>\n",
              "      <th>3</th>\n",
              "      <td>2024-01-01</td>\n",
              "      <td>01:09:24</td>\n",
              "      <td>3.2</td>\n",
              "      <td>18.4185</td>\n",
              "      <td>-100.4230</td>\n",
              "      <td>55.4</td>\n",
              "      <td>19 km al NOROESTE de ARCELIA, GRO</td>\n",
              "      <td>2024-01-01</td>\n",
              "      <td>07:09:24</td>\n",
              "      <td>revisado</td>\n",
              "    </tr>\n",
              "    <tr>\n",
              "      <th>4</th>\n",
              "      <td>2024-01-01</td>\n",
              "      <td>01:16:57</td>\n",
              "      <td>3.1</td>\n",
              "      <td>19.7267</td>\n",
              "      <td>-104.6570</td>\n",
              "      <td>54.0</td>\n",
              "      <td>27 km al NOROESTE de CASIMIRO CASTILLO, JAL</td>\n",
              "      <td>2024-01-01</td>\n",
              "      <td>07:16:57</td>\n",
              "      <td>revisado</td>\n",
              "    </tr>\n",
              "  </tbody>\n",
              "</table>\n",
              "</div>"
            ],
            "text/plain": [
              "        Fecha      Hora  Magnitud  Latitud  Longitud Profundidad  \\\n",
              "0  2024-01-01  00:15:51       3.2  18.7483 -104.6020        16.5   \n",
              "1  2024-01-01  00:30:39       4.3  15.5482  -95.8245        16.1   \n",
              "2  2024-01-01  00:53:59       3.1  19.5943 -102.4950         5.3   \n",
              "3  2024-01-01  01:09:24       3.2  18.4185 -100.4230        55.4   \n",
              "4  2024-01-01  01:16:57       3.1  19.7267 -104.6570        54.0   \n",
              "\n",
              "                    Referencia de localizacion   Fecha UTC  Hora UTC   Estatus  \n",
              "0         45 km al SUROESTE de MANZANILLO, COL  2024-01-01  06:15:51  revisado  \n",
              "1           41 km al SURESTE de CRUCECITA, OAX  2024-01-01  06:30:39  revisado  \n",
              "2  2 km al OESTE de LOS REYES DE SALGADO, MICH  2024-01-01  06:53:59  revisado  \n",
              "3            19 km al NOROESTE de ARCELIA, GRO  2024-01-01  07:09:24  revisado  \n",
              "4  27 km al NOROESTE de CASIMIRO CASTILLO, JAL  2024-01-01  07:16:57  revisado  "
            ]
          },
          "execution_count": 2,
          "metadata": {},
          "output_type": "execute_result"
        }
      ],
      "source": [
        "import matplotlib.pyplot as plt\n",
        "import seaborn as sns\n",
        "from sklearn import neighbors, datasets\n",
        "import numpy as np\n",
        "import pandas as pd\n",
        "#usaremos una base de datos de sismos en México\n",
        "my_dat=pd.read_csv('sismos.csv',skiprows=4,skipfooter=7, engine='python')\n",
        "my_dat.head()\n"
      ]
    },
    {
      "cell_type": "code",
      "execution_count": 3,
      "metadata": {
        "colab": {
          "base_uri": "https://localhost:8080/",
          "height": 925
        },
        "collapsed": true,
        "id": "742af514",
        "outputId": "d699fb28-b783-4522-db45-bee33e06ecca"
      },
      "outputs": [
        {
          "name": "stdout",
          "output_type": "stream",
          "text": [
            "Tipos de datos:\n",
            "\n"
          ]
        },
        {
          "data": {
            "text/plain": [
              "Fecha                          object\n",
              "Hora                           object\n",
              "Magnitud                      float64\n",
              "Latitud                       float64\n",
              "Longitud                      float64\n",
              "Profundidad                    object\n",
              "Referencia de localizacion     object\n",
              "Fecha UTC                      object\n",
              "Hora UTC                       object\n",
              "Estatus                        object\n",
              "dtype: object"
            ]
          },
          "metadata": {},
          "output_type": "display_data"
        },
        {
          "name": "stdout",
          "output_type": "stream",
          "text": [
            "Estadísticas descriptivas:\n",
            "\n"
          ]
        },
        {
          "data": {
            "text/html": [
              "<div>\n",
              "<style scoped>\n",
              "    .dataframe tbody tr th:only-of-type {\n",
              "        vertical-align: middle;\n",
              "    }\n",
              "\n",
              "    .dataframe tbody tr th {\n",
              "        vertical-align: top;\n",
              "    }\n",
              "\n",
              "    .dataframe thead th {\n",
              "        text-align: right;\n",
              "    }\n",
              "</style>\n",
              "<table border=\"1\" class=\"dataframe\">\n",
              "  <thead>\n",
              "    <tr style=\"text-align: right;\">\n",
              "      <th></th>\n",
              "      <th>Magnitud</th>\n",
              "      <th>Latitud</th>\n",
              "      <th>Longitud</th>\n",
              "    </tr>\n",
              "  </thead>\n",
              "  <tbody>\n",
              "    <tr>\n",
              "      <th>count</th>\n",
              "      <td>17522.000000</td>\n",
              "      <td>17522.000000</td>\n",
              "      <td>17522.000000</td>\n",
              "    </tr>\n",
              "    <tr>\n",
              "      <th>mean</th>\n",
              "      <td>3.496028</td>\n",
              "      <td>20.115196</td>\n",
              "      <td>-102.053611</td>\n",
              "    </tr>\n",
              "    <tr>\n",
              "      <th>std</th>\n",
              "      <td>0.375021</td>\n",
              "      <td>5.839813</td>\n",
              "      <td>7.599604</td>\n",
              "    </tr>\n",
              "    <tr>\n",
              "      <th>min</th>\n",
              "      <td>1.000000</td>\n",
              "      <td>12.790000</td>\n",
              "      <td>-118.321000</td>\n",
              "    </tr>\n",
              "    <tr>\n",
              "      <th>25%</th>\n",
              "      <td>3.300000</td>\n",
              "      <td>16.260000</td>\n",
              "      <td>-105.833000</td>\n",
              "    </tr>\n",
              "    <tr>\n",
              "      <th>50%</th>\n",
              "      <td>3.500000</td>\n",
              "      <td>17.236300</td>\n",
              "      <td>-99.540000</td>\n",
              "    </tr>\n",
              "    <tr>\n",
              "      <th>75%</th>\n",
              "      <td>3.700000</td>\n",
              "      <td>20.334250</td>\n",
              "      <td>-95.330000</td>\n",
              "    </tr>\n",
              "    <tr>\n",
              "      <th>max</th>\n",
              "      <td>6.200000</td>\n",
              "      <td>32.650000</td>\n",
              "      <td>-90.910000</td>\n",
              "    </tr>\n",
              "  </tbody>\n",
              "</table>\n",
              "</div>"
            ],
            "text/plain": [
              "           Magnitud       Latitud      Longitud\n",
              "count  17522.000000  17522.000000  17522.000000\n",
              "mean       3.496028     20.115196   -102.053611\n",
              "std        0.375021      5.839813      7.599604\n",
              "min        1.000000     12.790000   -118.321000\n",
              "25%        3.300000     16.260000   -105.833000\n",
              "50%        3.500000     17.236300    -99.540000\n",
              "75%        3.700000     20.334250    -95.330000\n",
              "max        6.200000     32.650000    -90.910000"
            ]
          },
          "metadata": {},
          "output_type": "display_data"
        },
        {
          "name": "stdout",
          "output_type": "stream",
          "text": [
            "Estadísticas descriptivas de columnas no numéricas:\n"
          ]
        },
        {
          "data": {
            "text/html": [
              "<div>\n",
              "<style scoped>\n",
              "    .dataframe tbody tr th:only-of-type {\n",
              "        vertical-align: middle;\n",
              "    }\n",
              "\n",
              "    .dataframe tbody tr th {\n",
              "        vertical-align: top;\n",
              "    }\n",
              "\n",
              "    .dataframe thead th {\n",
              "        text-align: right;\n",
              "    }\n",
              "</style>\n",
              "<table border=\"1\" class=\"dataframe\">\n",
              "  <thead>\n",
              "    <tr style=\"text-align: right;\">\n",
              "      <th></th>\n",
              "      <th>Fecha</th>\n",
              "      <th>Hora</th>\n",
              "      <th>Profundidad</th>\n",
              "      <th>Referencia de localizacion</th>\n",
              "      <th>Fecha UTC</th>\n",
              "      <th>Hora UTC</th>\n",
              "      <th>Estatus</th>\n",
              "    </tr>\n",
              "  </thead>\n",
              "  <tbody>\n",
              "    <tr>\n",
              "      <th>count</th>\n",
              "      <td>17522</td>\n",
              "      <td>17522</td>\n",
              "      <td>17522</td>\n",
              "      <td>17522</td>\n",
              "      <td>17522</td>\n",
              "      <td>17522</td>\n",
              "      <td>17522</td>\n",
              "    </tr>\n",
              "    <tr>\n",
              "      <th>unique</th>\n",
              "      <td>225</td>\n",
              "      <td>15863</td>\n",
              "      <td>1621</td>\n",
              "      <td>9813</td>\n",
              "      <td>225</td>\n",
              "      <td>15863</td>\n",
              "      <td>2</td>\n",
              "    </tr>\n",
              "    <tr>\n",
              "      <th>top</th>\n",
              "      <td>2024-05-27</td>\n",
              "      <td>21:41:29</td>\n",
              "      <td>10.0</td>\n",
              "      <td>80 km al NOROESTE de SAN FELIPE, BC</td>\n",
              "      <td>2024-07-07</td>\n",
              "      <td>03:41:29</td>\n",
              "      <td>verificado</td>\n",
              "    </tr>\n",
              "    <tr>\n",
              "      <th>freq</th>\n",
              "      <td>222</td>\n",
              "      <td>4</td>\n",
              "      <td>1541</td>\n",
              "      <td>135</td>\n",
              "      <td>196</td>\n",
              "      <td>4</td>\n",
              "      <td>12747</td>\n",
              "    </tr>\n",
              "  </tbody>\n",
              "</table>\n",
              "</div>"
            ],
            "text/plain": [
              "             Fecha      Hora Profundidad  \\\n",
              "count        17522     17522       17522   \n",
              "unique         225     15863        1621   \n",
              "top     2024-05-27  21:41:29        10.0   \n",
              "freq           222         4        1541   \n",
              "\n",
              "                  Referencia de localizacion   Fecha UTC  Hora UTC     Estatus  \n",
              "count                                  17522       17522     17522       17522  \n",
              "unique                                  9813         225     15863           2  \n",
              "top     80 km al NOROESTE de SAN FELIPE, BC   2024-07-07  03:41:29  verificado  \n",
              "freq                                     135         196         4       12747  "
            ]
          },
          "metadata": {},
          "output_type": "display_data"
        }
      ],
      "source": [
        "# Mostrar los tipos de datos de cada columna\n",
        "print(\"Tipos de datos:\\n\")\n",
        "display(my_dat.dtypes)\n",
        "\n",
        "# Mostrar estadísticas descriptivas de las columnas numéricas\n",
        "print(\"Estadísticas descriptivas:\\n\")\n",
        "display(my_dat.describe())\n",
        "\n",
        "# Mostrar estadísticas descriptivas de las columnas no numéricas\n",
        "print(\"Estadísticas descriptivas de columnas no numéricas:\")\n",
        "display(my_dat.describe(include='object'))"
      ]
    },
    {
      "cell_type": "markdown",
      "metadata": {
        "id": "1ce782c4"
      },
      "source": [
        "# Objetivo\n",
        "Analizar los datos de sismos en México utilizando técnicas de clasificación, específicamente el clasificador k-nearest neighbors, para predecir el 'Estatus' de un sismo basándose en sus características numéricas ('Magnitud', 'Latitud', 'Longitud', 'Profundidad')."
      ]
    },
    {
      "cell_type": "markdown",
      "metadata": {
        "id": "c67598e9"
      },
      "source": [
        "\n",
        "Convertir la columna 'Profundidad' a un tipo numérico, manejando posibles errores.\n"
      ]
    },
    {
      "cell_type": "markdown",
      "metadata": {
        "id": "2575c1f7"
      },
      "source": [
        "Se convierte la columna 'Profundidad' a tipo numérico, forzando los errores a NaN según lo indicado.\n",
        "\n"
      ]
    },
    {
      "cell_type": "code",
      "execution_count": 4,
      "metadata": {
        "colab": {
          "base_uri": "https://localhost:8080/",
          "height": 397
        },
        "id": "e98d03e4",
        "outputId": "e67ed6eb-be14-40c3-c939-6a83ed7e8419"
      },
      "outputs": [
        {
          "data": {
            "text/plain": [
              "Fecha                          object\n",
              "Hora                           object\n",
              "Magnitud                      float64\n",
              "Latitud                       float64\n",
              "Longitud                      float64\n",
              "Profundidad                   float64\n",
              "Referencia de localizacion     object\n",
              "Fecha UTC                      object\n",
              "Hora UTC                       object\n",
              "Estatus                        object\n",
              "dtype: object"
            ]
          },
          "metadata": {},
          "output_type": "display_data"
        }
      ],
      "source": [
        "my_dat['Profundidad'] = pd.to_numeric(my_dat['Profundidad'], errors='coerce')\n",
        "display(my_dat.dtypes)"
      ]
    },
    {
      "cell_type": "markdown",
      "metadata": {
        "id": "99fede5d"
      },
      "source": [
        "## Seleccionar características y objetivo\n",
        "\n",
        "Definir las columnas numéricas ('Magnitud', 'Latitud', 'Longitud', 'Profundidad' numérica) como características (X) y la columna 'Estatus' como el objetivo (y).\n"
      ]
    },
    {
      "cell_type": "markdown",
      "metadata": {
        "id": "a4eb9346"
      },
      "source": []
    },
    {
      "cell_type": "code",
      "execution_count": 5,
      "metadata": {
        "colab": {
          "base_uri": "https://localhost:8080/",
          "height": 429
        },
        "id": "aed45bc4",
        "outputId": "60c2249f-4778-4f3f-88ef-30b399f039bd"
      },
      "outputs": [
        {
          "data": {
            "text/html": [
              "<div>\n",
              "<style scoped>\n",
              "    .dataframe tbody tr th:only-of-type {\n",
              "        vertical-align: middle;\n",
              "    }\n",
              "\n",
              "    .dataframe tbody tr th {\n",
              "        vertical-align: top;\n",
              "    }\n",
              "\n",
              "    .dataframe thead th {\n",
              "        text-align: right;\n",
              "    }\n",
              "</style>\n",
              "<table border=\"1\" class=\"dataframe\">\n",
              "  <thead>\n",
              "    <tr style=\"text-align: right;\">\n",
              "      <th></th>\n",
              "      <th>Magnitud</th>\n",
              "      <th>Latitud</th>\n",
              "      <th>Longitud</th>\n",
              "      <th>Profundidad</th>\n",
              "    </tr>\n",
              "  </thead>\n",
              "  <tbody>\n",
              "    <tr>\n",
              "      <th>0</th>\n",
              "      <td>3.2</td>\n",
              "      <td>18.7483</td>\n",
              "      <td>-104.6020</td>\n",
              "      <td>16.5</td>\n",
              "    </tr>\n",
              "    <tr>\n",
              "      <th>1</th>\n",
              "      <td>4.3</td>\n",
              "      <td>15.5482</td>\n",
              "      <td>-95.8245</td>\n",
              "      <td>16.1</td>\n",
              "    </tr>\n",
              "    <tr>\n",
              "      <th>2</th>\n",
              "      <td>3.1</td>\n",
              "      <td>19.5943</td>\n",
              "      <td>-102.4950</td>\n",
              "      <td>5.3</td>\n",
              "    </tr>\n",
              "    <tr>\n",
              "      <th>3</th>\n",
              "      <td>3.2</td>\n",
              "      <td>18.4185</td>\n",
              "      <td>-100.4230</td>\n",
              "      <td>55.4</td>\n",
              "    </tr>\n",
              "    <tr>\n",
              "      <th>4</th>\n",
              "      <td>3.1</td>\n",
              "      <td>19.7267</td>\n",
              "      <td>-104.6570</td>\n",
              "      <td>54.0</td>\n",
              "    </tr>\n",
              "  </tbody>\n",
              "</table>\n",
              "</div>"
            ],
            "text/plain": [
              "   Magnitud  Latitud  Longitud  Profundidad\n",
              "0       3.2  18.7483 -104.6020         16.5\n",
              "1       4.3  15.5482  -95.8245         16.1\n",
              "2       3.1  19.5943 -102.4950          5.3\n",
              "3       3.2  18.4185 -100.4230         55.4\n",
              "4       3.1  19.7267 -104.6570         54.0"
            ]
          },
          "metadata": {},
          "output_type": "display_data"
        },
        {
          "data": {
            "text/plain": [
              "0    revisado\n",
              "1    revisado\n",
              "2    revisado\n",
              "3    revisado\n",
              "4    revisado\n",
              "Name: Estatus, dtype: object"
            ]
          },
          "metadata": {},
          "output_type": "display_data"
        }
      ],
      "source": [
        "X = my_dat[['Magnitud', 'Latitud', 'Longitud', 'Profundidad']]\n",
        "y = my_dat['Estatus']\n",
        "\n",
        "display(X.head())\n",
        "display(y.head())"
      ]
    },
    {
      "cell_type": "markdown",
      "metadata": {
        "id": "b378c50f"
      },
      "source": [
        "## Codificar la variable objetivo\n",
        "\n",
        "Convertir la variable objetivo categórica ('Estatus') a valores numéricos.\n"
      ]
    },
    {
      "cell_type": "markdown",
      "metadata": {
        "id": "b05adecc"
      },
      "source": [
        "\n",
        "Usamos Label Enconding para pasar los valores de texto como \"Estatus\" a valores numéricos."
      ]
    },
    {
      "cell_type": "code",
      "execution_count": 6,
      "metadata": {
        "colab": {
          "base_uri": "https://localhost:8080/",
          "height": 52
        },
        "id": "f230d66d",
        "outputId": "a2d36d1f-d300-4be6-846d-a14407646635"
      },
      "outputs": [
        {
          "data": {
            "text/plain": [
              "array([0, 0, 0, 0, 0])"
            ]
          },
          "metadata": {},
          "output_type": "display_data"
        },
        {
          "data": {
            "text/plain": [
              "array([0, 1])"
            ]
          },
          "metadata": {},
          "output_type": "display_data"
        }
      ],
      "source": [
        "from sklearn.preprocessing import LabelEncoder\n",
        "\n",
        "label_encoder = LabelEncoder()\n",
        "y = label_encoder.fit_transform(y)\n",
        "\n",
        "display(y[:5])\n",
        "display(np.unique(y))"
      ]
    },
    {
      "cell_type": "markdown",
      "metadata": {
        "id": "b4a51874"
      },
      "source": [
        "## Dividir los datos\n",
        "\n",
        "Dividir el conjunto de datos en conjuntos de entrenamiento y prueba.\n"
      ]
    },
    {
      "cell_type": "code",
      "execution_count": 7,
      "metadata": {
        "colab": {
          "base_uri": "https://localhost:8080/"
        },
        "id": "d3e1b29e",
        "outputId": "0fa96955-ba3b-4472-b28e-b5980820b66a"
      },
      "outputs": [
        {
          "name": "stdout",
          "output_type": "stream",
          "text": [
            "Shape of X_train: (14017, 4)\n",
            "Shape of X_test: (3505, 4)\n",
            "Shape of y_train: (14017,)\n",
            "Shape of y_test: (3505,)\n"
          ]
        }
      ],
      "source": [
        "from sklearn.model_selection import train_test_split\n",
        "\n",
        "X_train, X_test, y_train, y_test = train_test_split(X, y, test_size=0.2, random_state=42)\n",
        "\n",
        "print(\"Shape of X_train:\", X_train.shape)\n",
        "print(\"Shape of X_test:\", X_test.shape)\n",
        "print(\"Shape of y_train:\", y_train.shape)\n",
        "print(\"Shape of y_test:\", y_test.shape)"
      ]
    },
    {
      "cell_type": "markdown",
      "metadata": {
        "id": "cfd5e2c7"
      },
      "source": [
        "## Entrenar un clasificador k-nearest neighbors\n",
        "\n",
        "Se entrena un modelo KNN con los datos de entrenamiento.\n"
      ]
    },
    {
      "cell_type": "markdown",
      "metadata": {
        "id": "4c2db642"
      },
      "source": [
        "Es necesario manejar estos valores faltantes antes de entrenar el modelo KNN. Podemos usar SimpleImputer para rellenar los valores faltantes  con la media de las respectivas columnas en el conjunto de entrenamiento y luego transformaré tanto el conjunto de entrenamiento como el de prueba."
      ]
    },
    {
      "cell_type": "code",
      "execution_count": 8,
      "metadata": {
        "colab": {
          "base_uri": "https://localhost:8080/",
          "height": 80
        },
        "id": "XWpxyfpquwkx",
        "outputId": "4870cf36-099a-4801-9a5d-663735068519"
      },
      "outputs": [
        {
          "data": {
            "text/html": [
              "<style>#sk-container-id-1 {\n",
              "  /* Definition of color scheme common for light and dark mode */\n",
              "  --sklearn-color-text: black;\n",
              "  --sklearn-color-line: gray;\n",
              "  /* Definition of color scheme for unfitted estimators */\n",
              "  --sklearn-color-unfitted-level-0: #fff5e6;\n",
              "  --sklearn-color-unfitted-level-1: #f6e4d2;\n",
              "  --sklearn-color-unfitted-level-2: #ffe0b3;\n",
              "  --sklearn-color-unfitted-level-3: chocolate;\n",
              "  /* Definition of color scheme for fitted estimators */\n",
              "  --sklearn-color-fitted-level-0: #f0f8ff;\n",
              "  --sklearn-color-fitted-level-1: #d4ebff;\n",
              "  --sklearn-color-fitted-level-2: #b3dbfd;\n",
              "  --sklearn-color-fitted-level-3: cornflowerblue;\n",
              "\n",
              "  /* Specific color for light theme */\n",
              "  --sklearn-color-text-on-default-background: var(--sg-text-color, var(--theme-code-foreground, var(--jp-content-font-color1, black)));\n",
              "  --sklearn-color-background: var(--sg-background-color, var(--theme-background, var(--jp-layout-color0, white)));\n",
              "  --sklearn-color-border-box: var(--sg-text-color, var(--theme-code-foreground, var(--jp-content-font-color1, black)));\n",
              "  --sklearn-color-icon: #696969;\n",
              "\n",
              "  @media (prefers-color-scheme: dark) {\n",
              "    /* Redefinition of color scheme for dark theme */\n",
              "    --sklearn-color-text-on-default-background: var(--sg-text-color, var(--theme-code-foreground, var(--jp-content-font-color1, white)));\n",
              "    --sklearn-color-background: var(--sg-background-color, var(--theme-background, var(--jp-layout-color0, #111)));\n",
              "    --sklearn-color-border-box: var(--sg-text-color, var(--theme-code-foreground, var(--jp-content-font-color1, white)));\n",
              "    --sklearn-color-icon: #878787;\n",
              "  }\n",
              "}\n",
              "\n",
              "#sk-container-id-1 {\n",
              "  color: var(--sklearn-color-text);\n",
              "}\n",
              "\n",
              "#sk-container-id-1 pre {\n",
              "  padding: 0;\n",
              "}\n",
              "\n",
              "#sk-container-id-1 input.sk-hidden--visually {\n",
              "  border: 0;\n",
              "  clip: rect(1px 1px 1px 1px);\n",
              "  clip: rect(1px, 1px, 1px, 1px);\n",
              "  height: 1px;\n",
              "  margin: -1px;\n",
              "  overflow: hidden;\n",
              "  padding: 0;\n",
              "  position: absolute;\n",
              "  width: 1px;\n",
              "}\n",
              "\n",
              "#sk-container-id-1 div.sk-dashed-wrapped {\n",
              "  border: 1px dashed var(--sklearn-color-line);\n",
              "  margin: 0 0.4em 0.5em 0.4em;\n",
              "  box-sizing: border-box;\n",
              "  padding-bottom: 0.4em;\n",
              "  background-color: var(--sklearn-color-background);\n",
              "}\n",
              "\n",
              "#sk-container-id-1 div.sk-container {\n",
              "  /* jupyter's `normalize.less` sets `[hidden] { display: none; }`\n",
              "     but bootstrap.min.css set `[hidden] { display: none !important; }`\n",
              "     so we also need the `!important` here to be able to override the\n",
              "     default hidden behavior on the sphinx rendered scikit-learn.org.\n",
              "     See: https://github.com/scikit-learn/scikit-learn/issues/21755 */\n",
              "  display: inline-block !important;\n",
              "  position: relative;\n",
              "}\n",
              "\n",
              "#sk-container-id-1 div.sk-text-repr-fallback {\n",
              "  display: none;\n",
              "}\n",
              "\n",
              "div.sk-parallel-item,\n",
              "div.sk-serial,\n",
              "div.sk-item {\n",
              "  /* draw centered vertical line to link estimators */\n",
              "  background-image: linear-gradient(var(--sklearn-color-text-on-default-background), var(--sklearn-color-text-on-default-background));\n",
              "  background-size: 2px 100%;\n",
              "  background-repeat: no-repeat;\n",
              "  background-position: center center;\n",
              "}\n",
              "\n",
              "/* Parallel-specific style estimator block */\n",
              "\n",
              "#sk-container-id-1 div.sk-parallel-item::after {\n",
              "  content: \"\";\n",
              "  width: 100%;\n",
              "  border-bottom: 2px solid var(--sklearn-color-text-on-default-background);\n",
              "  flex-grow: 1;\n",
              "}\n",
              "\n",
              "#sk-container-id-1 div.sk-parallel {\n",
              "  display: flex;\n",
              "  align-items: stretch;\n",
              "  justify-content: center;\n",
              "  background-color: var(--sklearn-color-background);\n",
              "  position: relative;\n",
              "}\n",
              "\n",
              "#sk-container-id-1 div.sk-parallel-item {\n",
              "  display: flex;\n",
              "  flex-direction: column;\n",
              "}\n",
              "\n",
              "#sk-container-id-1 div.sk-parallel-item:first-child::after {\n",
              "  align-self: flex-end;\n",
              "  width: 50%;\n",
              "}\n",
              "\n",
              "#sk-container-id-1 div.sk-parallel-item:last-child::after {\n",
              "  align-self: flex-start;\n",
              "  width: 50%;\n",
              "}\n",
              "\n",
              "#sk-container-id-1 div.sk-parallel-item:only-child::after {\n",
              "  width: 0;\n",
              "}\n",
              "\n",
              "/* Serial-specific style estimator block */\n",
              "\n",
              "#sk-container-id-1 div.sk-serial {\n",
              "  display: flex;\n",
              "  flex-direction: column;\n",
              "  align-items: center;\n",
              "  background-color: var(--sklearn-color-background);\n",
              "  padding-right: 1em;\n",
              "  padding-left: 1em;\n",
              "}\n",
              "\n",
              "\n",
              "/* Toggleable style: style used for estimator/Pipeline/ColumnTransformer box that is\n",
              "clickable and can be expanded/collapsed.\n",
              "- Pipeline and ColumnTransformer use this feature and define the default style\n",
              "- Estimators will overwrite some part of the style using the `sk-estimator` class\n",
              "*/\n",
              "\n",
              "/* Pipeline and ColumnTransformer style (default) */\n",
              "\n",
              "#sk-container-id-1 div.sk-toggleable {\n",
              "  /* Default theme specific background. It is overwritten whether we have a\n",
              "  specific estimator or a Pipeline/ColumnTransformer */\n",
              "  background-color: var(--sklearn-color-background);\n",
              "}\n",
              "\n",
              "/* Toggleable label */\n",
              "#sk-container-id-1 label.sk-toggleable__label {\n",
              "  cursor: pointer;\n",
              "  display: block;\n",
              "  width: 100%;\n",
              "  margin-bottom: 0;\n",
              "  padding: 0.5em;\n",
              "  box-sizing: border-box;\n",
              "  text-align: center;\n",
              "}\n",
              "\n",
              "#sk-container-id-1 label.sk-toggleable__label-arrow:before {\n",
              "  /* Arrow on the left of the label */\n",
              "  content: \"▸\";\n",
              "  float: left;\n",
              "  margin-right: 0.25em;\n",
              "  color: var(--sklearn-color-icon);\n",
              "}\n",
              "\n",
              "#sk-container-id-1 label.sk-toggleable__label-arrow:hover:before {\n",
              "  color: var(--sklearn-color-text);\n",
              "}\n",
              "\n",
              "/* Toggleable content - dropdown */\n",
              "\n",
              "#sk-container-id-1 div.sk-toggleable__content {\n",
              "  max-height: 0;\n",
              "  max-width: 0;\n",
              "  overflow: hidden;\n",
              "  text-align: left;\n",
              "  /* unfitted */\n",
              "  background-color: var(--sklearn-color-unfitted-level-0);\n",
              "}\n",
              "\n",
              "#sk-container-id-1 div.sk-toggleable__content.fitted {\n",
              "  /* fitted */\n",
              "  background-color: var(--sklearn-color-fitted-level-0);\n",
              "}\n",
              "\n",
              "#sk-container-id-1 div.sk-toggleable__content pre {\n",
              "  margin: 0.2em;\n",
              "  border-radius: 0.25em;\n",
              "  color: var(--sklearn-color-text);\n",
              "  /* unfitted */\n",
              "  background-color: var(--sklearn-color-unfitted-level-0);\n",
              "}\n",
              "\n",
              "#sk-container-id-1 div.sk-toggleable__content.fitted pre {\n",
              "  /* unfitted */\n",
              "  background-color: var(--sklearn-color-fitted-level-0);\n",
              "}\n",
              "\n",
              "#sk-container-id-1 input.sk-toggleable__control:checked~div.sk-toggleable__content {\n",
              "  /* Expand drop-down */\n",
              "  max-height: 200px;\n",
              "  max-width: 100%;\n",
              "  overflow: auto;\n",
              "}\n",
              "\n",
              "#sk-container-id-1 input.sk-toggleable__control:checked~label.sk-toggleable__label-arrow:before {\n",
              "  content: \"▾\";\n",
              "}\n",
              "\n",
              "/* Pipeline/ColumnTransformer-specific style */\n",
              "\n",
              "#sk-container-id-1 div.sk-label input.sk-toggleable__control:checked~label.sk-toggleable__label {\n",
              "  color: var(--sklearn-color-text);\n",
              "  background-color: var(--sklearn-color-unfitted-level-2);\n",
              "}\n",
              "\n",
              "#sk-container-id-1 div.sk-label.fitted input.sk-toggleable__control:checked~label.sk-toggleable__label {\n",
              "  background-color: var(--sklearn-color-fitted-level-2);\n",
              "}\n",
              "\n",
              "/* Estimator-specific style */\n",
              "\n",
              "/* Colorize estimator box */\n",
              "#sk-container-id-1 div.sk-estimator input.sk-toggleable__control:checked~label.sk-toggleable__label {\n",
              "  /* unfitted */\n",
              "  background-color: var(--sklearn-color-unfitted-level-2);\n",
              "}\n",
              "\n",
              "#sk-container-id-1 div.sk-estimator.fitted input.sk-toggleable__control:checked~label.sk-toggleable__label {\n",
              "  /* fitted */\n",
              "  background-color: var(--sklearn-color-fitted-level-2);\n",
              "}\n",
              "\n",
              "#sk-container-id-1 div.sk-label label.sk-toggleable__label,\n",
              "#sk-container-id-1 div.sk-label label {\n",
              "  /* The background is the default theme color */\n",
              "  color: var(--sklearn-color-text-on-default-background);\n",
              "}\n",
              "\n",
              "/* On hover, darken the color of the background */\n",
              "#sk-container-id-1 div.sk-label:hover label.sk-toggleable__label {\n",
              "  color: var(--sklearn-color-text);\n",
              "  background-color: var(--sklearn-color-unfitted-level-2);\n",
              "}\n",
              "\n",
              "/* Label box, darken color on hover, fitted */\n",
              "#sk-container-id-1 div.sk-label.fitted:hover label.sk-toggleable__label.fitted {\n",
              "  color: var(--sklearn-color-text);\n",
              "  background-color: var(--sklearn-color-fitted-level-2);\n",
              "}\n",
              "\n",
              "/* Estimator label */\n",
              "\n",
              "#sk-container-id-1 div.sk-label label {\n",
              "  font-family: monospace;\n",
              "  font-weight: bold;\n",
              "  display: inline-block;\n",
              "  line-height: 1.2em;\n",
              "}\n",
              "\n",
              "#sk-container-id-1 div.sk-label-container {\n",
              "  text-align: center;\n",
              "}\n",
              "\n",
              "/* Estimator-specific */\n",
              "#sk-container-id-1 div.sk-estimator {\n",
              "  font-family: monospace;\n",
              "  border: 1px dotted var(--sklearn-color-border-box);\n",
              "  border-radius: 0.25em;\n",
              "  box-sizing: border-box;\n",
              "  margin-bottom: 0.5em;\n",
              "  /* unfitted */\n",
              "  background-color: var(--sklearn-color-unfitted-level-0);\n",
              "}\n",
              "\n",
              "#sk-container-id-1 div.sk-estimator.fitted {\n",
              "  /* fitted */\n",
              "  background-color: var(--sklearn-color-fitted-level-0);\n",
              "}\n",
              "\n",
              "/* on hover */\n",
              "#sk-container-id-1 div.sk-estimator:hover {\n",
              "  /* unfitted */\n",
              "  background-color: var(--sklearn-color-unfitted-level-2);\n",
              "}\n",
              "\n",
              "#sk-container-id-1 div.sk-estimator.fitted:hover {\n",
              "  /* fitted */\n",
              "  background-color: var(--sklearn-color-fitted-level-2);\n",
              "}\n",
              "\n",
              "/* Specification for estimator info (e.g. \"i\" and \"?\") */\n",
              "\n",
              "/* Common style for \"i\" and \"?\" */\n",
              "\n",
              ".sk-estimator-doc-link,\n",
              "a:link.sk-estimator-doc-link,\n",
              "a:visited.sk-estimator-doc-link {\n",
              "  float: right;\n",
              "  font-size: smaller;\n",
              "  line-height: 1em;\n",
              "  font-family: monospace;\n",
              "  background-color: var(--sklearn-color-background);\n",
              "  border-radius: 1em;\n",
              "  height: 1em;\n",
              "  width: 1em;\n",
              "  text-decoration: none !important;\n",
              "  margin-left: 1ex;\n",
              "  /* unfitted */\n",
              "  border: var(--sklearn-color-unfitted-level-1) 1pt solid;\n",
              "  color: var(--sklearn-color-unfitted-level-1);\n",
              "}\n",
              "\n",
              ".sk-estimator-doc-link.fitted,\n",
              "a:link.sk-estimator-doc-link.fitted,\n",
              "a:visited.sk-estimator-doc-link.fitted {\n",
              "  /* fitted */\n",
              "  border: var(--sklearn-color-fitted-level-1) 1pt solid;\n",
              "  color: var(--sklearn-color-fitted-level-1);\n",
              "}\n",
              "\n",
              "/* On hover */\n",
              "div.sk-estimator:hover .sk-estimator-doc-link:hover,\n",
              ".sk-estimator-doc-link:hover,\n",
              "div.sk-label-container:hover .sk-estimator-doc-link:hover,\n",
              ".sk-estimator-doc-link:hover {\n",
              "  /* unfitted */\n",
              "  background-color: var(--sklearn-color-unfitted-level-3);\n",
              "  color: var(--sklearn-color-background);\n",
              "  text-decoration: none;\n",
              "}\n",
              "\n",
              "div.sk-estimator.fitted:hover .sk-estimator-doc-link.fitted:hover,\n",
              ".sk-estimator-doc-link.fitted:hover,\n",
              "div.sk-label-container:hover .sk-estimator-doc-link.fitted:hover,\n",
              ".sk-estimator-doc-link.fitted:hover {\n",
              "  /* fitted */\n",
              "  background-color: var(--sklearn-color-fitted-level-3);\n",
              "  color: var(--sklearn-color-background);\n",
              "  text-decoration: none;\n",
              "}\n",
              "\n",
              "/* Span, style for the box shown on hovering the info icon */\n",
              ".sk-estimator-doc-link span {\n",
              "  display: none;\n",
              "  z-index: 9999;\n",
              "  position: relative;\n",
              "  font-weight: normal;\n",
              "  right: .2ex;\n",
              "  padding: .5ex;\n",
              "  margin: .5ex;\n",
              "  width: min-content;\n",
              "  min-width: 20ex;\n",
              "  max-width: 50ex;\n",
              "  color: var(--sklearn-color-text);\n",
              "  box-shadow: 2pt 2pt 4pt #999;\n",
              "  /* unfitted */\n",
              "  background: var(--sklearn-color-unfitted-level-0);\n",
              "  border: .5pt solid var(--sklearn-color-unfitted-level-3);\n",
              "}\n",
              "\n",
              ".sk-estimator-doc-link.fitted span {\n",
              "  /* fitted */\n",
              "  background: var(--sklearn-color-fitted-level-0);\n",
              "  border: var(--sklearn-color-fitted-level-3);\n",
              "}\n",
              "\n",
              ".sk-estimator-doc-link:hover span {\n",
              "  display: block;\n",
              "}\n",
              "\n",
              "/* \"?\"-specific style due to the `<a>` HTML tag */\n",
              "\n",
              "#sk-container-id-1 a.estimator_doc_link {\n",
              "  float: right;\n",
              "  font-size: 1rem;\n",
              "  line-height: 1em;\n",
              "  font-family: monospace;\n",
              "  background-color: var(--sklearn-color-background);\n",
              "  border-radius: 1rem;\n",
              "  height: 1rem;\n",
              "  width: 1rem;\n",
              "  text-decoration: none;\n",
              "  /* unfitted */\n",
              "  color: var(--sklearn-color-unfitted-level-1);\n",
              "  border: var(--sklearn-color-unfitted-level-1) 1pt solid;\n",
              "}\n",
              "\n",
              "#sk-container-id-1 a.estimator_doc_link.fitted {\n",
              "  /* fitted */\n",
              "  border: var(--sklearn-color-fitted-level-1) 1pt solid;\n",
              "  color: var(--sklearn-color-fitted-level-1);\n",
              "}\n",
              "\n",
              "/* On hover */\n",
              "#sk-container-id-1 a.estimator_doc_link:hover {\n",
              "  /* unfitted */\n",
              "  background-color: var(--sklearn-color-unfitted-level-3);\n",
              "  color: var(--sklearn-color-background);\n",
              "  text-decoration: none;\n",
              "}\n",
              "\n",
              "#sk-container-id-1 a.estimator_doc_link.fitted:hover {\n",
              "  /* fitted */\n",
              "  background-color: var(--sklearn-color-fitted-level-3);\n",
              "}\n",
              "</style><div id=\"sk-container-id-1\" class=\"sk-top-container\"><div class=\"sk-text-repr-fallback\"><pre>KNeighborsClassifier()</pre><b>In a Jupyter environment, please rerun this cell to show the HTML representation or trust the notebook. <br />On GitHub, the HTML representation is unable to render, please try loading this page with nbviewer.org.</b></div><div class=\"sk-container\" hidden><div class=\"sk-item\"><div class=\"sk-estimator fitted sk-toggleable\"><input class=\"sk-toggleable__control sk-hidden--visually\" id=\"sk-estimator-id-1\" type=\"checkbox\" checked><label for=\"sk-estimator-id-1\" class=\"sk-toggleable__label fitted sk-toggleable__label-arrow fitted\">&nbsp;&nbsp;KNeighborsClassifier<a class=\"sk-estimator-doc-link fitted\" rel=\"noreferrer\" target=\"_blank\" href=\"https://scikit-learn.org/1.5/modules/generated/sklearn.neighbors.KNeighborsClassifier.html\">?<span>Documentation for KNeighborsClassifier</span></a><span class=\"sk-estimator-doc-link fitted\">i<span>Fitted</span></span></label><div class=\"sk-toggleable__content fitted\"><pre>KNeighborsClassifier()</pre></div> </div></div></div></div>"
            ],
            "text/plain": [
              "KNeighborsClassifier()"
            ]
          },
          "execution_count": 8,
          "metadata": {},
          "output_type": "execute_result"
        }
      ],
      "source": [
        "from sklearn.impute import SimpleImputer\n",
        "from sklearn.neighbors import KNeighborsClassifier\n",
        "\n",
        "imputer = SimpleImputer(missing_values=np.nan, strategy='mean')\n",
        "X_train_imputed = imputer.fit_transform(X_train)\n",
        "X_test_imputed = imputer.transform(X_test)\n",
        "\n",
        "knn = KNeighborsClassifier(n_neighbors=5)\n",
        "knn.fit(X_train_imputed, y_train)\n",
        "\n",
        "\n"
      ]
    },
    {
      "cell_type": "markdown",
      "metadata": {
        "id": "5a05de59"
      },
      "source": [
        "## Evaluar el modelo\n",
        "Predecir sobre el conjunto de prueba y evaluar el rendimiento del clasificador utilizando métricas de clasificación.\n"
      ]
    },
    {
      "cell_type": "markdown",
      "metadata": {
        "id": "e50bf1ca"
      },
      "source": [
        "Se harán predicciones sobre el conjunto de prueba y se evaluará el modelo utilizando distintas métricas."
      ]
    },
    {
      "cell_type": "code",
      "execution_count": 9,
      "metadata": {
        "colab": {
          "base_uri": "https://localhost:8080/"
        },
        "id": "e6012066",
        "outputId": "b3870624-bfca-4cb5-e5ee-d06287f00995"
      },
      "outputs": [
        {
          "name": "stdout",
          "output_type": "stream",
          "text": [
            "Accuracy: 0.7144\n",
            "Precision: 0.7653\n",
            "Recall: 0.8781\n",
            "F1 Score: 0.8178\n"
          ]
        }
      ],
      "source": [
        "from sklearn.metrics import accuracy_score, precision_score, recall_score, f1_score\n",
        "\n",
        "y_pred = knn.predict(X_test_imputed)\n",
        "\n",
        "accuracy = accuracy_score(y_test, y_pred)\n",
        "precision = precision_score(y_test, y_pred, average='binary')\n",
        "recall = recall_score(y_test, y_pred, average='binary')\n",
        "f1 = f1_score(y_test, y_pred, average='binary')\n",
        "\n",
        "print(f\"Accuracy: {accuracy:.4f}\")\n",
        "print(f\"Precision: {precision:.4f}\")\n",
        "print(f\"Recall: {recall:.4f}\")\n",
        "print(f\"F1 Score: {f1:.4f}\")"
      ]
    },
    {
      "cell_type": "code",
      "execution_count": 10,
      "metadata": {
        "colab": {
          "base_uri": "https://localhost:8080/",
          "height": 444
        },
        "id": "d1f0b342",
        "outputId": "df34cf35-eb62-4fa6-99ac-5022b94c70a1"
      },
      "outputs": [
        {
          "data": {
            "image/png": "[encoded data removed]",
            "text/plain": [
              "<Figure size 500x500 with 1 Axes>"
            ]
          },
          "metadata": {},
          "output_type": "display_data"
        }
      ],
      "source": [
        "import matplotlib.pyplot as plt\n",
        "import numpy as np\n",
        "\n",
        "# Suponiendo que 'y' ya está codificada como 0 y 1\n",
        "# Necesitamos contar las ocurrencias de cada clase\n",
        "class_counts = np.bincount(y)\n",
        "\n",
        "# Definir las etiquetas basadas en los valores únicos de la columna original 'Estatus'\n",
        "# Se asume que 0 corresponde al primer valor único y 1 al segundo\n",
        "original_labels = my_dat['Estatus'].unique()\n",
        "labels = [original_labels[i] for i in np.unique(y)]\n",
        "\n",
        "\n",
        "plt.rc('text', usetex=False)\n",
        "plt.pie(class_counts,\n",
        "        labels=labels,\n",
        "        colors=['lightblue', 'lightcoral'],\n",
        "        shadow=False,\n",
        "        autopct ='%.2f' )\n",
        "plt.gcf().set_size_inches((5,5))\n",
        "plt.title('Distribucición de Estado')\n",
        "plt.show()"
      ]
    },
    {
      "cell_type": "code",
      "execution_count": 11,
      "metadata": {
        "colab": {
          "base_uri": "https://localhost:8080/",
          "height": 699
        },
        "id": "86eb9f95",
        "outputId": "cf14e1e9-b0c0-4c3d-ad99-813a5d67e0ac"
      },
      "outputs": [
        {
          "data": {
            "image/png": "[encoded data removed]",
            "text/plain": [
              "<Figure size 1200x800 with 1 Axes>"
            ]
          },
          "metadata": {},
          "output_type": "display_data"
        }
      ],
      "source": [
        "import numpy as np\n",
        "import matplotlib.pyplot as plt\n",
        "from sklearn.model_selection import cross_val_score\n",
        "from sklearn import neighbors, svm, tree\n",
        "from sklearn.impute import SimpleImputer\n",
        "\n",
        "imputer = SimpleImputer(missing_values=np.nan, strategy='mean')\n",
        "X_imputed = imputer.fit_transform(X)\n",
        "y_encoded = y #\n",
        "\n",
        "# Definir clasificadores\n",
        "classifiers = {\n",
        "    \"1-NN\": neighbors.KNeighborsClassifier(n_neighbors=1),\n",
        "    \"3-NN\": neighbors.KNeighborsClassifier(n_neighbors=3),\n",
        "    \"SVM\": svm.SVC(),\n",
        "    \"Decision Tree\": tree.DecisionTreeClassifier()\n",
        "}\n",
        "\n",
        "# Validación cruzada\n",
        "n_folds = 10\n",
        "acc_r = []\n",
        "\n",
        "for name, clf in classifiers.items():\n",
        "    scores = cross_val_score(clf, X_imputed, y_encoded, cv=n_folds, scoring=\"accuracy\")\n",
        "    acc_r.append(scores)\n",
        "\n",
        "# Convertir a array: n_folds x n_classifiers\n",
        "acc_r = np.array(acc_r).T\n",
        "\n",
        "# Crear figura\n",
        "plt.figure(figsize=(12,8))\n",
        "plt.boxplot(acc_r, labels=list(classifiers.keys()))\n",
        "\n",
        "# Agregar puntos individuales con jitter\n",
        "n_reps, n_class = acc_r.shape\n",
        "for j in range(n_class):\n",
        "    x_jitter = (j+1) + (np.random.rand(n_reps)-0.5)*0.2  # jitter horizontal\n",
        "    plt.scatter(x_jitter, acc_r[:, j], color=\"red\", alpha=0.6)\n",
        "\n",
        "plt.ylabel(\"Accuracy\")\n",
        "plt.title(f\"Comparación de clasificadores ({n_folds}-fold CV)\")\n",
        "plt.show()"
      ]
    },
    {
      "cell_type": "code",
      "execution_count": 12,
      "metadata": {
        "colab": {
          "base_uri": "https://localhost:8080/",
          "height": 488
        },
        "id": "6fb8c59d",
        "outputId": "c1e67fca-ca40-45d6-8c8d-63c8e7c6d52c"
      },
      "outputs": [
        {
          "data": {
            "image/png": "[encoded data removed]",
            "text/plain": [
              "<Figure size 700x500 with 1 Axes>"
            ]
          },
          "metadata": {},
          "output_type": "display_data"
        }
      ],
      "source": [
        "import numpy as np\n",
        "import matplotlib.pyplot as plt\n",
        "from sklearn.tree import DecisionTreeClassifier\n",
        "from sklearn.model_selection import train_test_split\n",
        "from sklearn.impute import SimpleImputer\n",
        "\n",
        "# Re-impute the data to ensure no NaNs\n",
        "imputer = SimpleImputer(missing_values=np.nan, strategy='mean')\n",
        "X_imputed = imputer.fit_transform(X)\n",
        "y_encoded = y # y is already label encoded\n",
        "\n",
        "# Split data into train/test sets\n",
        "X_train_imp, X_test_imp, y_train_enc, y_test_enc = train_test_split(X_imputed, y_encoded, test_size=0.2, random_state=42)\n",
        "\n",
        "\n",
        "# Configuración del árbol\n",
        "max_depth = 5   # You can adjust this parameter\n",
        "clf = DecisionTreeClassifier(max_depth=max_depth, random_state=42)\n",
        "\n",
        "# Tamaños de entrenamiento\n",
        "# Use a smaller number of points for train_sizes to make the plot clearer\n",
        "train_sizes = np.linspace(50, len(X_train_imp), 10, dtype=int)\n",
        "\n",
        "train_errors = []\n",
        "test_errors = []\n",
        "\n",
        "for m in train_sizes:\n",
        "    # Entrenar con las primeras m muestras\n",
        "    clf.fit(X_train_imp[:m], y_train_enc[:m])\n",
        "    # Accuracy\n",
        "    acc_train = clf.score(X_train_imp[:m], y_train_enc[:m])\n",
        "    acc_test = clf.score(X_test_imp, y_test_enc)\n",
        "    # Guardamos los ERRORES (1 - accuracy)\n",
        "    train_errors.append(1 - acc_train)\n",
        "    test_errors.append(1 - acc_test)\n",
        "\n",
        "# Gráfica de las curvas de aprendizaje\n",
        "\n",
        "plt.figure(figsize=(7,5))\n",
        "plt.plot(train_sizes, train_errors, \"o-\", color=\"blue\", label=\"Training error\")\n",
        "plt.plot(train_sizes, test_errors, \"s-\", color=\"red\", label=\"Test error\")\n",
        "\n",
        "plt.xlabel(\"Número de ejemplos de entrenamiento\")\n",
        "plt.ylabel(\"Error\")\n",
        "plt.title(f\"Learning curves (Decision Tree, max_depth={max_depth})\")\n",
        "plt.legend()\n",
        "plt.grid(True, linestyle=\"--\", alpha=0.7)\n",
        "plt.show()"
      ]
    },
    {
      "cell_type": "markdown",
      "metadata": {
        "id": "55021096"
      },
      "source": [
        "Hallazgos clave del análisis de datos\n",
        "\n",
        "Las columnas numéricas ('Magnitud', 'Latitud', 'Longitud', 'Profundidad') fueron identificadas correctamente como características (X), y la columna 'Estatus' como variable objetivo (y).\n",
        "\n",
        "El conjunto de datos fue dividido en entrenamiento (80%) y prueba (20%), resultando en 14,017 muestras para entrenamiento y 3,505 para prueba.\n",
        "\n",
        "Los valores faltantes en los datos de características fueron imputados utilizando la estrategia de la media antes de entrenar el modelo.\n",
        "\n",
        "Se entrenó exitosamente un clasificador K-Nearest Neighbors con 5 vecinos sobre los datos de entrenamiento imputados.\n",
        "\n",
        "El modelo KNN entrenado alcanzó una precisión de aproximadamente 71.44%, una precisión de 76.53%, una sensibilidad (recall) de 87.81% y una puntuación F1 de 81.78% sobre los datos de prueba."
      ]
    },
    {
      "cell_type": "code",
      "execution_count": null,
      "metadata": {
        "id": "hzYNQZVp4O2U"
      },
      "outputs": [],
      "source": []
    }
  ],
  "metadata": {
    "colab": {
      "provenance": []
    },
    "kernelspec": {
      "display_name": "Python 3",
      "name": "python3"
    },
    "language_info": {
      "codemirror_mode": {
        "name": "ipython",
        "version": 3
      },
      "file_extension": ".py",
      "mimetype": "text/x-python",
      "name": "python",
      "nbconvert_exporter": "python",
      "pygments_lexer": "ipython3",
      "version": "3.12.1"
    }
  },
  "nbformat": 4,
  "nbformat_minor": 0
}
